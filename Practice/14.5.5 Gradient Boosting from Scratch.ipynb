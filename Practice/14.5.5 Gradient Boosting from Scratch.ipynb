{
 "cells": [
  {
   "cell_type": "code",
   "execution_count": 2,
   "metadata": {},
   "outputs": [],
   "source": [
    "%matplotlib inline\n",
    "\n",
    "import pandas as pd\n",
    "import numpy as np\n",
    "from IPython.display import display\n",
    "# from fastai.imports import *\n",
    "from sklearn import metrics\n"
   ]
  },
  {
   "cell_type": "code",
   "execution_count": 3,
   "metadata": {},
   "outputs": [],
   "source": [
    "class DecisionTree():\n",
    "    def __init__(self, x, y, idxs = None, min_leaf=2):\n",
    "        if idxs is None: idxs=np.arange(len(y))\n",
    "        self.x,self.y,self.idxs,self.min_leaf = x,y,idxs,min_leaf\n",
    "        self.n,self.c = len(idxs), x.shape[1]\n",
    "        self.val = np.mean(y[idxs])\n",
    "        self.score = float('inf')\n",
    "        self.find_varsplit()\n",
    "        \n",
    "    def find_varsplit(self):\n",
    "        for i in range(self.c): self.find_better_split(i)\n",
    "        if self.score == float('inf'): return\n",
    "        x = self.split_col\n",
    "        lhs = np.nonzero(x<=self.split)[0]\n",
    "        rhs = np.nonzero(x>self.split)[0]\n",
    "        self.lhs = DecisionTree(self.x, self.y, self.idxs[lhs])\n",
    "        self.rhs = DecisionTree(self.x, self.y, self.idxs[rhs])\n",
    "\n",
    "    def find_better_split(self, var_idx):\n",
    "        x,y = self.x.values[self.idxs,var_idx], self.y[self.idxs]\n",
    "        sort_idx = np.argsort(x)\n",
    "        sort_y,sort_x = y[sort_idx], x[sort_idx]\n",
    "        rhs_cnt,rhs_sum,rhs_sum2 = self.n, sort_y.sum(), (sort_y**2).sum()\n",
    "        lhs_cnt,lhs_sum,lhs_sum2 = 0,0.,0.\n",
    "\n",
    "        for i in range(0,self.n-self.min_leaf-1):\n",
    "            xi,yi = sort_x[i],sort_y[i]\n",
    "            lhs_cnt += 1; rhs_cnt -= 1\n",
    "            lhs_sum += yi; rhs_sum -= yi\n",
    "            lhs_sum2 += yi**2; rhs_sum2 -= yi**2\n",
    "            if i<self.min_leaf or xi==sort_x[i+1]:\n",
    "                continue\n",
    "\n",
    "            lhs_std = std_agg(lhs_cnt, lhs_sum, lhs_sum2)\n",
    "            rhs_std = std_agg(rhs_cnt, rhs_sum, rhs_sum2)\n",
    "            curr_score = lhs_std*lhs_cnt + rhs_std*rhs_cnt\n",
    "            if curr_score<self.score: \n",
    "                self.var_idx,self.score,self.split = var_idx,curr_score,xi\n",
    "\n",
    "    @property\n",
    "    def split_name(self): return self.x.columns[self.var_idx]\n",
    "    \n",
    "    @property\n",
    "    def split_col(self): return self.x.values[self.idxs,self.var_idx]\n",
    "\n",
    "    @property\n",
    "    def is_leaf(self): return self.score == float('inf')\n",
    "    \n",
    "    def __repr__(self):\n",
    "        s = f'n: {self.n}; val:{self.val}'\n",
    "        if not self.is_leaf:\n",
    "            s += f'; score:{self.score}; split:{self.split}; var:{self.split_name}'\n",
    "        return s\n",
    "\n",
    "    def predict(self, x):\n",
    "        return np.array([self.predict_row(xi) for xi in x])\n",
    "\n",
    "    def predict_row(self, xi):\n",
    "        if self.is_leaf: return self.val\n",
    "        t = self.lhs if xi[self.var_idx]<=self.split else self.rhs\n",
    "        return t.predict_row(xi)"
   ]
  },
  {
   "cell_type": "code",
   "execution_count": 16,
   "metadata": {},
   "outputs": [],
   "source": [
    "x = np.arange(0,15)\n",
    "x = pd.DataFrame({'x':x})"
   ]
  },
  {
   "cell_type": "code",
   "execution_count": 17,
   "metadata": {},
   "outputs": [],
   "source": [
    "# just random uniform distributions in differnt range\n",
    "\n",
    "y1 = np.random.uniform(10,15,3)\n",
    "y2 = np.random.uniform(20,25,3)\n",
    "y3 = np.random.uniform(0,5,3)\n",
    "y4 = np.random.uniform(30,32,3)\n",
    "y5 = np.random.uniform(13,17,3)\n",
    "\n",
    "y = np.concatenate((y1,y2,y3,y4,y5))\n",
    "y = y[:,None]"
   ]
  },
  {
   "cell_type": "code",
   "execution_count": 18,
   "metadata": {},
   "outputs": [
    {
     "data": {
      "image/png": "[encoded data removed]",
      "text/plain": [
       "<Figure size 504x360 with 1 Axes>"
      ]
     },
     "metadata": {
      "needs_background": "light"
     },
     "output_type": "display_data"
    }
   ],
   "source": [
    "import matplotlib.pyplot as plt\n",
    "plt.figure(figsize=(7,5))\n",
    "plt.plot(x,y, 'o')\n",
    "plt.title(\"Scatter plot of x vs. y\")\n",
    "plt.xlabel(\"x\")\n",
    "plt.ylabel(\"y\")\n",
    "plt.show()"
   ]
  },
  {
   "cell_type": "code",
   "execution_count": 19,
   "metadata": {},
   "outputs": [],
   "source": [
    "def std_agg(cnt, s1, s2): return np.sqrt((s2/cnt) - (s1/cnt)**2)"
   ]
  },
  {
   "cell_type": "code",
   "execution_count": 24,
   "metadata": {},
   "outputs": [
    {
     "data": {
      "text/plain": [
       "8"
      ]
     },
     "execution_count": 24,
     "metadata": {},
     "output_type": "execute_result"
    }
   ],
   "source": [
    "xi = x # initialization of input\n",
    "yi = y # initialization of target\n",
    "# x,y --> use where no need to change original y\n",
    "ei = 0 # initialization of error\n",
    "n = len(yi)  # number of rows\n",
    "predf = 0 # initial prediction 0\n",
    "tree = DecisionTree(xi,yi)\n",
    "tree.find_better_split\n",
    "r = np.where(xi == tree.split)[0][0] # r=8\n",
    "left_idx = np.where(xi <= tree.split)[0]\n"
   ]
  },
  {
   "cell_type": "code",
   "execution_count": 30,
   "metadata": {},
   "outputs": [
    {
     "data": {
      "text/plain": [
       "(array([[12.44382332],\n",
       "        [12.44382332],\n",
       "        [12.44382332],\n",
       "        [12.44382332],\n",
       "        [12.44382332],\n",
       "        [12.44382332],\n",
       "        [12.44382332],\n",
       "        [12.44382332],\n",
       "        [12.44382332],\n",
       "        [23.30729964],\n",
       "        [23.30729964],\n",
       "        [23.30729964],\n",
       "        [23.30729964],\n",
       "        [23.30729964],\n",
       "        [23.30729964]]),\n",
       " array([[12.44382332],\n",
       "        [12.44382332],\n",
       "        [12.44382332],\n",
       "        [12.44382332],\n",
       "        [12.44382332],\n",
       "        [12.44382332],\n",
       "        [12.44382332],\n",
       "        [12.44382332],\n",
       "        [12.44382332],\n",
       "        [23.30729964],\n",
       "        [23.30729964],\n",
       "        [23.30729964],\n",
       "        [23.30729964],\n",
       "        [23.30729964],\n",
       "        [23.30729964]]))"
      ]
     },
     "execution_count": 30,
     "metadata": {},
     "output_type": "execute_result"
    }
   ],
   "source": [
    "predf, predi"
   ]
  },
  {
   "cell_type": "code",
   "execution_count": 45,
   "metadata": {},
   "outputs": [
    {
     "name": "stdout",
     "output_type": "stream",
     "text": [
      "r-8\n",
      "predi-[[12.44382332]\n",
      " [12.44382332]\n",
      " [12.44382332]\n",
      " [12.44382332]\n",
      " [12.44382332]\n",
      " [12.44382332]\n",
      " [12.44382332]\n",
      " [12.44382332]\n",
      " [12.44382332]\n",
      " [23.30729964]\n",
      " [23.30729964]\n",
      " [23.30729964]\n",
      " [23.30729964]\n",
      " [23.30729964]\n",
      " [23.30729964]]\n",
      "predf-[[12.44382332]\n",
      " [12.44382332]\n",
      " [12.44382332]\n",
      " [12.44382332]\n",
      " [12.44382332]\n",
      " [12.44382332]\n",
      " [12.44382332]\n",
      " [12.44382332]\n",
      " [12.44382332]\n",
      " [23.30729964]\n",
      " [23.30729964]\n",
      " [23.30729964]\n",
      " [23.30729964]\n",
      " [23.30729964]\n",
      " [23.30729964]]\n",
      "yi-[[ -1.36006302]\n",
      " [ -2.31440184]\n",
      " [  2.41354345]\n",
      " [  8.47917069]\n",
      " [ 12.29669045]\n",
      " [  9.05496126]\n",
      " [-11.11067573]\n",
      " [ -9.49405014]\n",
      " [ -7.96517513]\n",
      " [  7.47317856]\n",
      " [  7.86953296]\n",
      " [  6.88079156]\n",
      " [ -7.87807505]\n",
      " [ -7.34003702]\n",
      " [ -7.00539101]]\n",
      "r-11\n",
      "predi-[[ 1.85195859]\n",
      " [ 1.85195859]\n",
      " [ 1.85195859]\n",
      " [ 1.85195859]\n",
      " [ 1.85195859]\n",
      " [ 1.85195859]\n",
      " [ 1.85195859]\n",
      " [ 1.85195859]\n",
      " [ 1.85195859]\n",
      " [ 1.85195859]\n",
      " [ 1.85195859]\n",
      " [ 1.85195859]\n",
      " [-7.40783436]\n",
      " [-7.40783436]\n",
      " [-7.40783436]]\n",
      "predf-[[14.29578191]\n",
      " [14.29578191]\n",
      " [14.29578191]\n",
      " [14.29578191]\n",
      " [14.29578191]\n",
      " [14.29578191]\n",
      " [14.29578191]\n",
      " [14.29578191]\n",
      " [14.29578191]\n",
      " [25.15925823]\n",
      " [25.15925823]\n",
      " [25.15925823]\n",
      " [15.89946528]\n",
      " [15.89946528]\n",
      " [15.89946528]]\n",
      "yi-[[ -3.21202161]\n",
      " [ -4.16636043]\n",
      " [  0.56158486]\n",
      " [  6.6272121 ]\n",
      " [ 10.44473186]\n",
      " [  7.20300267]\n",
      " [-12.96263432]\n",
      " [-11.34600873]\n",
      " [ -9.81713372]\n",
      " [  5.62121997]\n",
      " [  6.01757437]\n",
      " [  5.02883297]\n",
      " [ -0.47024069]\n",
      " [  0.06779734]\n",
      " [  0.40244335]]\n",
      "r-8\n",
      "predi-[[-1.85195859]\n",
      " [-1.85195859]\n",
      " [-1.85195859]\n",
      " [-1.85195859]\n",
      " [-1.85195859]\n",
      " [-1.85195859]\n",
      " [-1.85195859]\n",
      " [-1.85195859]\n",
      " [-1.85195859]\n",
      " [ 2.77793788]\n",
      " [ 2.77793788]\n",
      " [ 2.77793788]\n",
      " [ 2.77793788]\n",
      " [ 2.77793788]\n",
      " [ 2.77793788]]\n",
      "predf-[[12.44382332]\n",
      " [12.44382332]\n",
      " [12.44382332]\n",
      " [12.44382332]\n",
      " [12.44382332]\n",
      " [12.44382332]\n",
      " [12.44382332]\n",
      " [12.44382332]\n",
      " [12.44382332]\n",
      " [27.93719611]\n",
      " [27.93719611]\n",
      " [27.93719611]\n",
      " [18.67740316]\n",
      " [18.67740316]\n",
      " [18.67740316]]\n",
      "yi-[[ -1.36006302]\n",
      " [ -2.31440184]\n",
      " [  2.41354345]\n",
      " [  8.47917069]\n",
      " [ 12.29669045]\n",
      " [  9.05496126]\n",
      " [-11.11067573]\n",
      " [ -9.49405014]\n",
      " [ -7.96517513]\n",
      " [  2.84328209]\n",
      " [  3.23963648]\n",
      " [  2.25089508]\n",
      " [ -3.24817857]\n",
      " [ -2.71014055]\n",
      " [ -2.37549453]]\n"
     ]
    },
    {
     "data": {
      "image/png": "[encoded data removed]",
      "text/plain": [
       "<Figure size 936x180 with 2 Axes>"
      ]
     },
     "metadata": {
      "needs_background": "light"
     },
     "output_type": "display_data"
    },
    {
     "data": {
      "image/png": "[encoded data removed]",
      "text/plain": [
       "<Figure size 936x180 with 2 Axes>"
      ]
     },
     "metadata": {
      "needs_background": "light"
     },
     "output_type": "display_data"
    },
    {
     "data": {
      "image/png": "[encoded data removed]",
      "text/plain": [
       "<Figure size 936x180 with 2 Axes>"
      ]
     },
     "metadata": {
      "needs_background": "light"
     },
     "output_type": "display_data"
    }
   ],
   "source": [
    "xi = x # initialization of input\n",
    "yi = y # initialization of target\n",
    "# x,y --> use where no need to change original y\n",
    "ei = 0 # initialization of error\n",
    "n = len(yi)  # number of rows\n",
    "predf = 0 # initial prediction 0\n",
    "\n",
    "for i in range(3): # like n_estimators\n",
    "    tree = DecisionTree(xi,yi)\n",
    "    tree.find_better_split(0)\n",
    "    \n",
    "    r = np.where(xi == tree.split)[0][0]    \n",
    "    print('r-{}'.format(r))\n",
    "    left_idx = np.where(xi <= tree.split)[0]\n",
    "    right_idx = np.where(xi > tree.split)[0]\n",
    "    \n",
    "    predi = np.zeros(n)\n",
    "    np.put(predi, left_idx, np.repeat(np.mean(yi[left_idx]), r))  # replace left side mean y\n",
    "    np.put(predi, right_idx, np.repeat(np.mean(yi[right_idx]), n-r))  # right side mean y\n",
    "    \n",
    "    predi = predi[:,None]  # make long vector (nx1) in compatible with y\n",
    "    print('predi-{}'.format(predi))\n",
    "    predf = predf + predi  # final prediction will be previous prediction value + new prediction of residual\n",
    "    print('predf-{}'.format(predf))\n",
    "    ei = y - predf  # needed originl y here as residual always from original y    \n",
    "    yi = ei # update yi as residual to reloop\n",
    "    print('yi-{}'.format(yi))\n",
    "    \n",
    "    # plotting after prediction\n",
    "    xa = np.array(x.x) # column name of x is x \n",
    "    order = np.argsort(xa)\n",
    "    xs = np.array(xa)[order]\n",
    "    ys = np.array(predf)[order]\n",
    "    \n",
    "    #epreds = np.array(epred[:,None])[order]\n",
    "\n",
    "    f, (ax1, ax2) = plt.subplots(1, 2, sharey=True, figsize = (13,2.5))\n",
    "\n",
    "    ax1.plot(x,y, 'o')\n",
    "    ax1.plot(xs, ys, 'r')\n",
    "    ax1.set_title(f'Prediction (Iteration {i+1})')\n",
    "    ax1.set_xlabel('x')\n",
    "    ax1.set_ylabel('y / y_pred')\n",
    "\n",
    "    ax2.plot(x, ei, 'go')\n",
    "    ax2.set_title(f'Residuals vs. x (Iteration {i+1})')\n",
    "    ax2.set_xlabel('x')\n",
    "    ax2.set_ylabel('Residuals')"
   ]
  },
  {
   "cell_type": "code",
   "execution_count": 32,
   "metadata": {},
   "outputs": [
    {
     "data": {
      "text/plain": [
       "array([-4.93432455e-16, -4.93432455e-16, -4.93432455e-16, -4.93432455e-16,\n",
       "       -4.93432455e-16, -4.93432455e-16, -4.93432455e-16, -4.93432455e-16])"
      ]
     },
     "execution_count": 32,
     "metadata": {},
     "output_type": "execute_result"
    }
   ],
   "source": [
    "np.repeat(np.mean(yi[left_idx]), r)"
   ]
  },
  {
   "cell_type": "code",
   "execution_count": 40,
   "metadata": {},
   "outputs": [
    {
     "data": {
      "text/plain": [
       "array([8, 8, 8])"
      ]
     },
     "execution_count": 40,
     "metadata": {},
     "output_type": "execute_result"
    }
   ],
   "source": [
    "np.repeat(8,3)"
   ]
  },
  {
   "cell_type": "code",
   "execution_count": 34,
   "metadata": {},
   "outputs": [
    {
     "data": {
      "text/plain": [
       "array(['A', 'A', 'B', 'A', 'B'], dtype='<U1')"
      ]
     },
     "execution_count": 34,
     "metadata": {},
     "output_type": "execute_result"
    }
   ],
   "source": [
    "np.where(np.random.rand(5)<0.5,'A','B')"
   ]
  },
  {
   "cell_type": "code",
   "execution_count": 41,
   "metadata": {},
   "outputs": [],
   "source": [
    "np.put(predi, left_idx, np.repeat(np.mean(yi[left_idx]), r))"
   ]
  },
  {
   "cell_type": "code",
   "execution_count": 42,
   "metadata": {},
   "outputs": [
    {
     "data": {
      "text/plain": [
       "array([[-4.93432455e-16],\n",
       "       [-4.93432455e-16],\n",
       "       [-4.93432455e-16],\n",
       "       [-4.93432455e-16],\n",
       "       [-4.93432455e-16],\n",
       "       [-4.93432455e-16],\n",
       "       [-4.93432455e-16],\n",
       "       [-4.93432455e-16],\n",
       "       [-4.93432455e-16],\n",
       "       [ 2.33072996e+01],\n",
       "       [ 2.33072996e+01],\n",
       "       [ 2.33072996e+01],\n",
       "       [ 2.33072996e+01],\n",
       "       [ 2.33072996e+01],\n",
       "       [ 2.33072996e+01]])"
      ]
     },
     "execution_count": 42,
     "metadata": {},
     "output_type": "execute_result"
    }
   ],
   "source": [
    "predi"
   ]
  },
  {
   "cell_type": "code",
   "execution_count": null,
   "metadata": {},
   "outputs": [],
   "source": [
    "np.put(np.array([1,2,3,4,5]))"
   ]
  },
  {
   "cell_type": "code",
   "execution_count": 43,
   "metadata": {},
   "outputs": [
    {
     "data": {
      "text/plain": [
       "array([0, 1, 2, 3, 4, 5, 6, 7, 8], dtype=int64)"
      ]
     },
     "execution_count": 43,
     "metadata": {},
     "output_type": "execute_result"
    }
   ],
   "source": [
    "left_idx"
   ]
  },
  {
   "cell_type": "code",
   "execution_count": 44,
   "metadata": {},
   "outputs": [
    {
     "data": {
      "text/plain": [
       "8"
      ]
     },
     "execution_count": 44,
     "metadata": {},
     "output_type": "execute_result"
    }
   ],
   "source": [
    "r"
   ]
  },
  {
   "cell_type": "code",
   "execution_count": 48,
   "metadata": {},
   "outputs": [
    {
     "ename": "ValueError",
     "evalue": "invalid literal for int() with base 10: 'a'",
     "output_type": "error",
     "traceback": [
      "\u001b[1;31m---------------------------------------------------------------------------\u001b[0m",
      "\u001b[1;31mValueError\u001b[0m                                Traceback (most recent call last)",
      "\u001b[1;32m<ipython-input-48-60fc9492c56d>\u001b[0m in \u001b[0;36m<module>\u001b[1;34m\u001b[0m\n\u001b[1;32m----> 1\u001b[1;33m \u001b[0mnp\u001b[0m\u001b[1;33m.\u001b[0m\u001b[0mput\u001b[0m\u001b[1;33m(\u001b[0m\u001b[0mnp\u001b[0m\u001b[1;33m.\u001b[0m\u001b[0marray\u001b[0m\u001b[1;33m(\u001b[0m\u001b[1;33m[\u001b[0m\u001b[1;36m1\u001b[0m\u001b[1;33m,\u001b[0m\u001b[1;36m2\u001b[0m\u001b[1;33m,\u001b[0m\u001b[1;36m3\u001b[0m\u001b[1;33m,\u001b[0m\u001b[1;36m4\u001b[0m\u001b[1;33m,\u001b[0m\u001b[1;36m5\u001b[0m\u001b[1;33m]\u001b[0m\u001b[1;33m)\u001b[0m\u001b[1;33m,\u001b[0m \u001b[1;33m[\u001b[0m\u001b[1;36m0\u001b[0m\u001b[1;33m,\u001b[0m \u001b[1;36m2\u001b[0m\u001b[1;33m]\u001b[0m\u001b[1;33m,\u001b[0m \u001b[1;33m[\u001b[0m\u001b[1;34m'a'\u001b[0m\u001b[1;33m,\u001b[0m \u001b[1;34m'b'\u001b[0m\u001b[1;33m]\u001b[0m\u001b[1;33m)\u001b[0m\u001b[1;33m\u001b[0m\u001b[1;33m\u001b[0m\u001b[0m\n\u001b[0m",
      "\u001b[1;32m<__array_function__ internals>\u001b[0m in \u001b[0;36mput\u001b[1;34m(*args, **kwargs)\u001b[0m\n",
      "\u001b[1;32m~\\anaconda3\\lib\\site-packages\\numpy\\core\\fromnumeric.py\u001b[0m in \u001b[0;36mput\u001b[1;34m(a, ind, v, mode)\u001b[0m\n\u001b[0;32m    541\u001b[0m                         \"not {name}\".format(name=type(a).__name__))\n\u001b[0;32m    542\u001b[0m \u001b[1;33m\u001b[0m\u001b[0m\n\u001b[1;32m--> 543\u001b[1;33m     \u001b[1;32mreturn\u001b[0m \u001b[0mput\u001b[0m\u001b[1;33m(\u001b[0m\u001b[0mind\u001b[0m\u001b[1;33m,\u001b[0m \u001b[0mv\u001b[0m\u001b[1;33m,\u001b[0m \u001b[0mmode\u001b[0m\u001b[1;33m=\u001b[0m\u001b[0mmode\u001b[0m\u001b[1;33m)\u001b[0m\u001b[1;33m\u001b[0m\u001b[1;33m\u001b[0m\u001b[0m\n\u001b[0m\u001b[0;32m    544\u001b[0m \u001b[1;33m\u001b[0m\u001b[0m\n\u001b[0;32m    545\u001b[0m \u001b[1;33m\u001b[0m\u001b[0m\n",
      "\u001b[1;31mValueError\u001b[0m: invalid literal for int() with base 10: 'a'"
     ]
    }
   ],
   "source": [
    "np.put(np.array([1,2,3,4,5]), [0, 2], [-44, -55])"
   ]
  },
  {
   "cell_type": "code",
   "execution_count": null,
   "metadata": {},
   "outputs": [],
   "source": []
  }
 ],
 "metadata": {
  "kernelspec": {
   "display_name": "Python 3",
   "language": "python",
   "name": "python3"
  },
  "language_info": {
   "codemirror_mode": {
    "name": "ipython",
    "version": 3
   },
   "file_extension": ".py",
   "mimetype": "text/x-python",
   "name": "python",
   "nbconvert_exporter": "python",
   "pygments_lexer": "ipython3",
   "version": "3.8.5"
  }
 },
 "nbformat": 4,
 "nbformat_minor": 4
}
